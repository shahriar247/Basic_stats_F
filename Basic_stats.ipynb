{
 "cells": [
  {
   "cell_type": "markdown",
   "metadata": {},
   "source": [
    "## Script to calculate Basic Statistics"
   ]
  },
  {
   "cell_type": "markdown",
   "metadata": {},
   "source": [
    "### Equation for the mean:   $\\mu_x = \\sum_{i=1}^{N}\\frac{x_i}{N}$\n",
    "\n",
    "### Equation for the standard deviation:  $\\sigma_x = \\sqrt{\\sum_{i=1}^{N}\\left(x_i - \\mu \\right)^2}\\frac{1}{N-1}$\n",
    "\n",
    "\n",
    "**Instructions:**\n",
    "\n",
    "**(1) Before you write code, write an algorithm that describes the sequence of steps you will take to compute the mean and standard deviation for your samples.  The algorithm can be written in pseudocode or as an itemized list.***\n",
    "\n",
    "**(2) Use 'for' loops to help yourself compute the average and standard deviation.**\n",
    "\n",
    "**(3) Use for loops and conditional operators to count the number of samples within $1\\sigma$ of the mean.**\n",
    "\n",
    "**Note:** It is not acceptable to use the pre-programmed routines for mean and st. dev., e.g. numpy.mean()"
   ]
  },
  {
   "cell_type": "markdown",
   "metadata": {},
   "source": [
    "### Edit this box to write an algorithm for computing the mean and std. deviation.\n",
    "\n",
    "#### Algorithm (Itemized List):\n",
    "\n",
    "##### 1. Importing Matplotlib:\n",
    "Importing the Matplotlib library using import matplotlib.pyplot as plt.\n",
    "\n",
    "##### 2. Defining Dataset:\n",
    "Creating a list that represents the dataset.\n",
    "\n",
    "##### 3. Calculating the Mean:\n",
    "Using the formula \"mean = sum / len(dataset) to calculate the mean of the dataset\"\n",
    "\n",
    "##### 4. Calculating the Standard Deviation:\n",
    "Using the formula \"std_deviation = (sum((xi - mean) ** 2 for xi in dataset) / len(dataset)) ** 0.5\"\n",
    "\n",
    "##### 5. Printing the Results:\n",
    "Using print() statements to display the mean and standard deviation."
   ]
  },
  {
   "cell_type": "markdown",
   "metadata": {},
   "source": [
    "### Write your code using instructions in the cells below."
   ]
  },
  {
   "cell_type": "markdown",
   "metadata": {},
   "source": [
    "# Put your Header information here.  Name, creation date, version, etc.\n",
    "### Name: Shahriar Bin Shahid \n",
    "### Date: 09/24/2023\n",
    "### Version 1"
   ]
  },
  {
   "cell_type": "code",
   "execution_count": 1,
   "metadata": {},
   "outputs": [],
   "source": [
    "# Import the matplotlib module here.  No other modules should be used.\n",
    "import matplotlib.pyplot as plt"
   ]
  },
  {
   "cell_type": "code",
   "execution_count": 2,
   "metadata": {},
   "outputs": [],
   "source": [
    "# Create a list variable that contains at least 25 elements.  You can create this list any number of ways.  \n",
    "# This will be your sample.\n",
    "x = [1,2,3,4,5,6,7,8,9,10,11,12,13,14,15,16,17,18,19,20,21,22,23,24,25]"
   ]
  },
  {
   "cell_type": "code",
   "execution_count": 3,
   "metadata": {},
   "outputs": [
    {
     "name": "stdout",
     "output_type": "stream",
     "text": [
      "25\n"
     ]
    }
   ],
   "source": [
    "# Pretend you do not know how long x is; compute it's length, N, without using functions or modules.\n",
    "x = [1,2,3,4,5,6,7,8,9,10,11,12,13,14,15,16,17,18,19,20,21,22,23,24,25]\n",
    "\n",
    "# Calculating the length of x\n",
    "N = 0\n",
    "\n",
    "# Loop\n",
    "for element in x:\n",
    "    N = N + 1\n",
    "\n",
    "# Printing\n",
    "print(N)"
   ]
  },
  {
   "cell_type": "code",
   "execution_count": 4,
   "metadata": {},
   "outputs": [
    {
     "name": "stdout",
     "output_type": "stream",
     "text": [
      "13.0\n"
     ]
    }
   ],
   "source": [
    "# Compute the mean of the elements in list x.\n",
    "\n",
    "import matplotlib.pyplot as plt\n",
    "\n",
    "x = [1,2,3,4,5,6,7,8,9,10,11,12,13,14,15,16,17,18,19,20,21,22,23,24,25]\n",
    "\n",
    "# Variable to store the sum of all elements\n",
    "sum_elements = 0\n",
    "\n",
    "# For calculating the sum\n",
    "for element in x:\n",
    "    sum_elements = sum_elements + element\n",
    "\n",
    "# For calculating the mean\n",
    "mean = sum_elements / len(x)\n",
    "print(mean)"
   ]
  },
  {
   "cell_type": "code",
   "execution_count": 5,
   "metadata": {},
   "outputs": [
    {
     "name": "stdout",
     "output_type": "stream",
     "text": [
      "7.211102550927978\n"
     ]
    }
   ],
   "source": [
    "# Compute the std deviation, using the mean and the elements in list x.\n",
    "\n",
    "import matplotlib.pyplot as plt\n",
    "\n",
    "x = [1,2,3,4,5,6,7,8,9,10,11,12,13,14,15,16,17,18,19,20,21,22,23,24,25]\n",
    "\n",
    "# Calculating the mean\n",
    "mean = sum(x) / len(x)\n",
    "\n",
    "# Calculating standard deviation\n",
    "std_deviation = (sum((xi - mean) ** 2 for xi in x) / len(x)) ** 0.5\n",
    "\n",
    "print(std_deviation)"
   ]
  },
  {
   "cell_type": "code",
   "execution_count": 6,
   "metadata": {},
   "outputs": [
    {
     "name": "stdout",
     "output_type": "stream",
     "text": [
      "Average (mu): 13.0\n",
      "Standard Deviation (sigma): 7.211102550927978\n"
     ]
    }
   ],
   "source": [
    "# Use the 'print' command to report the values of average (mu) and std. dev. (sigma).\n",
    "\n",
    "import matplotlib.pyplot as plt\n",
    "\n",
    "x = [1,2,3,4,5,6,7,8,9,10,11,12,13,14,15,16,17,18,19,20,21,22,23,24,25]\n",
    "\n",
    "# Calculating the mean\n",
    "mean = sum(x) / len(x)\n",
    "\n",
    "# Calculating standard deviation\n",
    "std_deviation = (sum((xi - mean) ** 2 for xi in x) / len(x)) ** 0.5\n",
    "\n",
    "# Print the values of average (mu) and std. dev. (sigma)\n",
    "print(\"Average (mu):\", mean)\n",
    "print(\"Standard Deviation (sigma):\", std_deviation)"
   ]
  },
  {
   "cell_type": "code",
   "execution_count": 7,
   "metadata": {},
   "outputs": [
    {
     "name": "stdout",
     "output_type": "stream",
     "text": [
      "Values within +/- 1 std. deviation of the mean: 15\n",
      "Percentage within this range: 60.0 %\n",
      "Is this a normally distributed list? No\n"
     ]
    }
   ],
   "source": [
    "# Count the number of values that are within +/- 1 std. deviation of the mean.  \n",
    "# A normal distribution will have approx. 68% of the values within this range.  \n",
    "# Based on this criteria is the list normally distributed?\n",
    "\n",
    "import matplotlib.pyplot as plt\n",
    "\n",
    "x = [1,2,3,4,5,6,7,8,9,10,11,12,13,14,15,16,17,18,19,20,21,22,23,24,25]\n",
    "\n",
    "# Mean\n",
    "mean = sum(x) / len(x)\n",
    "\n",
    "# Standard deviation\n",
    "std_deviation = (sum((xi - mean) ** 2 for xi in x) / len(x)) ** 0.5\n",
    "\n",
    "# Limit\n",
    "lower = mean - std_deviation\n",
    "upper = mean + std_deviation\n",
    "\n",
    "# Number of values within range\n",
    "count = sum(1 for xi in x if lower <= xi <= upper)\n",
    "\n",
    "# Percentage within range\n",
    "percentage = (count / len(x)) * 100\n",
    "\n",
    "# Normal distribution\n",
    "normal_distribution = percentage >= 68\n",
    "\n",
    "# Results\n",
    "print(\"Values within +/- 1 std. deviation of the mean:\", count)\n",
    "print(\"Percentage within this range:\", percentage, \"%\")\n",
    "print(f\"Is this a normally distributed list? {'Yes' if normal_distribution else 'No'}\")"
   ]
  },
  {
   "cell_type": "code",
   "execution_count": 8,
   "metadata": {},
   "outputs": [
    {
     "name": "stdout",
     "output_type": "stream",
     "text": [
      "The data is not normally distributed.\n"
     ]
    }
   ],
   "source": [
    "# Use print() and if statements to report a message about whether the data is normally distributed.\n",
    "\n",
    "import matplotlib.pyplot as plt\n",
    "\n",
    "x = [1,2,3,4,5,6,7,8,9,10,11,12,13,14,15,16,17,18,19,20,21,22,23,24,25]\n",
    "\n",
    "# Mean\n",
    "mean = sum(x) / len(x)\n",
    "\n",
    "# Standard deviation\n",
    "std_deviation = (sum((xi - mean) ** 2 for xi in x) / len(x)) ** 0.5\n",
    "\n",
    "# Limit\n",
    "lower = mean - std_deviation\n",
    "upper = mean + std_deviation\n",
    "\n",
    "# Number of values within range\n",
    "count = sum(1 for xi in x if lower <= xi <= upper)\n",
    "\n",
    "# Percentage within range\n",
    "percentage = (count / len(x)) * 100\n",
    "\n",
    "# Normal distribution\n",
    "normal_distribution = percentage >= 68\n",
    "\n",
    "# Results\n",
    "# Using print() and if statements\n",
    "if normal_distribution:\n",
    "    print(\"The data is normally distributed.\")\n",
    "else:\n",
    "    print(\"The data is not normally distributed.\")"
   ]
  },
  {
   "cell_type": "code",
   "execution_count": 9,
   "metadata": {},
   "outputs": [
    {
     "data": {
      "image/png": "[encoded data removed]",
      "text/plain": [
       "<Figure size 640x480 with 1 Axes>"
      ]
     },
     "metadata": {},
     "output_type": "display_data"
    }
   ],
   "source": [
    "### Use Matplotlb.pyplot to make a histogram of x.\n",
    "\n",
    "import matplotlib.pyplot as plt\n",
    "\n",
    "x = [1,2,3,4,5,6,7,8,9,10,11,12,13,14,15,16,17,18,19,20,21,22,23,24,25]\n",
    "\n",
    "# Creating the histogram\n",
    "bins = [0, 10, 20, 30]\n",
    "plt.hist(x, bins=bins, color='teal', edgecolor='black', alpha=0.7)\n",
    "\n",
    "# Labeling\n",
    "plt.title('Histogram of List x')\n",
    "plt.xlabel('Value')\n",
    "plt.ylabel('Frequency')\n",
    "\n",
    "# Displaying the histogram\n",
    "plt.show()"
   ]
  },
  {
   "cell_type": "markdown",
   "metadata": {
    "collapsed": true,
    "jupyter": {
     "outputs_hidden": true
    }
   },
   "source": [
    "### OCG 593 students, look up an equation for Skewness and write code to compute the skewness. \n",
    "#### Compute the skewness and report whether the sample is normally distributed."
   ]
  },
  {
   "cell_type": "code",
   "execution_count": 10,
   "metadata": {},
   "outputs": [
    {
     "name": "stdout",
     "output_type": "stream",
     "text": [
      "The skewness is: 0.0\n",
      "List is normally distributed.\n"
     ]
    }
   ],
   "source": [
    "x = [1,2,3,4,5,6,7,8,9,10,11,12,13,14,15,16,17,18,19,20,21,22,23,24,25]\n",
    "\n",
    "# Calculating skewness\n",
    "n = len(x)\n",
    "mean = sum(x) / n\n",
    "skewness = sum((xi - mean) ** 3 for xi in x) / (n * ((sum((xi - mean) ** 2 for xi in x) / n) ** 1.5))\n",
    "\n",
    "# Finding skewness and normality based on skewness\n",
    "print(\"The skewness is:\", skewness)\n",
    "if -0.5 <= skewness <= 0.5:\n",
    "    print(\"List is normally distributed.\")\n",
    "else:\n",
    "    print(\"List is not normally distributed.\")"
   ]
  },
  {
   "cell_type": "code",
   "execution_count": null,
   "metadata": {},
   "outputs": [],
   "source": []
  }
 ],
 "metadata": {
  "kernelspec": {
   "display_name": "Python 3 (ipykernel)",
   "language": "python",
   "name": "python3"
  },
  "language_info": {
   "codemirror_mode": {
    "name": "ipython",
    "version": 3
   },
   "file_extension": ".py",
   "mimetype": "text/x-python",
   "name": "python",
   "nbconvert_exporter": "python",
   "pygments_lexer": "ipython3",
   "version": "3.11.4"
  }
 },
 "nbformat": 4,
 "nbformat_minor": 4
}
